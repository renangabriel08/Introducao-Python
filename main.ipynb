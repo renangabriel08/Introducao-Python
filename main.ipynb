{
 "cells": [
  {
   "cell_type": "markdown",
   "metadata": {},
   "source": [
    "# Primeiros passos"
   ]
  },
  {
   "cell_type": "markdown",
   "metadata": {},
   "source": [
    "### Saida de dados\n",
    "\n",
    "o comando de saída de dados, ou seja, o responsável por **exibir** informações para o usuário no ``Python``. Em pseudocódigo, lemos como `escreva`."
   ]
  },
  {
   "cell_type": "code",
   "execution_count": 1,
   "metadata": {},
   "outputs": [
    {
     "name": "stdout",
     "output_type": "stream",
     "text": [
      "Olá mundo!\n"
     ]
    }
   ],
   "source": [
    "print(\"Olá mundo!\")"
   ]
  },
  {
   "cell_type": "markdown",
   "metadata": {},
   "source": [
    "### Entrada de dados\n",
    "\n",
    "O comando de entrada de dados, ou seja, o responsável por **ler** as informações digitadas pelo usuário no ``Python``. Em pseudocódigo, lemos como `leia`."
   ]
  },
  {
   "cell_type": "code",
   "execution_count": 2,
   "metadata": {},
   "outputs": [
    {
     "name": "stdout",
     "output_type": "stream",
     "text": [
      "Meu nome é \n"
     ]
    }
   ],
   "source": [
    "nome = input(\"Digite seu nome: \")\n",
    "print(\"Meu nome é\",nome)"
   ]
  },
  {
   "cell_type": "markdown",
   "metadata": {},
   "source": [
    "# Variáveis"
   ]
  },
  {
   "cell_type": "markdown",
   "metadata": {},
   "source": [
    "### Conceito\n",
    "\n",
    "Na computação, temos as variáveis. Variáveis são posições na memória que sofrem alteração de valor.\n",
    "Ou seja, se você guardou um valor em uma variável, como um nome, uma idade, ele pode ser alterado posteriormente pois é possível essa volatilidade de seu valor.\n",
    "Para declarar uma variável, e armazenar um valor, é usado a sigla de = (igual).\n",
    "No Python, o tipo da variável é concebido de forma dinamica, ou seja, no ato de atribuição de valor."
   ]
  },
  {
   "cell_type": "markdown",
   "metadata": {},
   "source": [
    "### Padrões\n",
    "\n",
    "Existem alguns padrões de declaração de variáveis, os mais comuns são:\n",
    "\n",
    "- unimarUniversidade = camelCase\n",
    "- UnimarUniversidade = PascalCase\n",
    "- unimar_universidade = snake_case\n",
    "\n",
    "Segue o exemplo de atribuição:"
   ]
  },
  {
   "cell_type": "code",
   "execution_count": 3,
   "metadata": {},
   "outputs": [
    {
     "name": "stdout",
     "output_type": "stream",
     "text": [
      "Bem-vindo Renan\n",
      "Bem-vindo Renan\n"
     ]
    }
   ],
   "source": [
    "nome = \"Renan\"          #normal\n",
    "nomePessoa = \"Renan\"    #camelCase\n",
    "NomePessoa = \"Renan\"    #PascalCase\n",
    "nome_pessoa = \"Renan\"   #snake_case\n",
    "\n",
    "print(\"Bem-vindo \" + nome)\n",
    "print(\"Bem-vindo\", nome)"
   ]
  },
  {
   "cell_type": "markdown",
   "metadata": {},
   "source": [
    "### Concatenar\n",
    "\n",
    "Para juntarmos um conteúdio de texto com variáveis, ou apenas variáveis com variáveis, usa-se a concatenação, simboliza pela vírgula ou sinal de mais. Isso dita ao python que você quer juntar/unir valores.\n",
    "\n",
    "O operador `+` só pode ser usado entre strings e faz uma concatenação sem adicionar espaços automaticamente. Já a `,`, pode-se usar com outros tipos de dados e adiciona um espaço automaticamente.\n",
    "\n",
    "Porém, ao usar o sinal de `+` entre uma string e variável de tipo numeral, irá ocorrer um erro.\n",
    "\n",
    "Exemplo:"
   ]
  },
  {
   "cell_type": "code",
   "execution_count": 4,
   "metadata": {},
   "outputs": [
    {
     "name": "stdout",
     "output_type": "stream",
     "text": [
      "Olá, Tiago, você possui uma Ferrari e tem 40 anos.\n"
     ]
    }
   ],
   "source": [
    "nomeProf = 'Tiago'\n",
    "idadeProf = 40\n",
    "carroProf = 'Ferrari'\n",
    "\n",
    "print(\"Olá,\", nomeProf + \", você possui uma\", carroProf, \"e tem\", idadeProf, \"anos.\")"
   ]
  },
  {
   "cell_type": "markdown",
   "metadata": {},
   "source": [
    "### Declaração\n",
    "\n",
    "Quando declaramos uma variável, temos que nos atentar na forma com declaramos as variáveis. Existe a sintaxe correta de declaração para tal\n",
    "\n",
    "- sem espaços\n",
    "- não começar com número\n",
    "- sem usar cacteres especiais/acentos\n",
    "- não usar palavras reservadas"
   ]
  },
  {
   "cell_type": "code",
   "execution_count": 5,
   "metadata": {},
   "outputs": [],
   "source": [
    "# nome = \"Renan\"               -> OK\n",
    "# 08_SP = \"Modalidade\"         -> Erro: começa com número\n",
    "# Nome Completo = \"Renan\"      -> Erro: espaço\n",
    "# código = \"console.log()\"     -> Erro: acento\n",
    "# try = \"Renan\"                -> Erro: palavra reservada\n",
    "# I = \"Renan\"                  -> OK"
   ]
  },
  {
   "cell_type": "markdown",
   "metadata": {},
   "source": [
    "### Tipos de dados\n",
    "\n",
    "Em python, o tipo de uma variável não precisa ser declarado explicitamente antes de usar a variável. O python é uma linguagem de tipagem dinâmica, o que significa que o tipo de uma variável é inferido automaticamente com base no valor que ele recebe. Qundo você atribui um valor a uma variável em Python, o interpretador determina o tipo dessa variável com base no tipo do valor atribuído. Exemplo\n",
    "\n",
    "- ``str``: Representa uma cadeia de caracteres, ou seja, textos de forma geral.\n",
    "- ``int``: Representa números inteiros.\n",
    "- ``float``: Representa números de ponto flutuante ou seja, números com casas decimais\n"
   ]
  },
  {
   "cell_type": "code",
   "execution_count": 6,
   "metadata": {},
   "outputs": [
    {
     "name": "stdout",
     "output_type": "stream",
     "text": [
      "O tipo da variável nomeAluno é <class 'str'>\n",
      "O tipo da variável idade é <class 'int'>\n",
      "O tipo da variável altura é <class 'float'>\n"
     ]
    }
   ],
   "source": [
    "nomeAluno = \"Renan\"\n",
    "idade = 18\n",
    "altura = 1.60\n",
    "\n",
    "print(\"O tipo da variável nomeAluno é\", type(nomeAluno))\n",
    "print(\"O tipo da variável idade é\", type(idade))\n",
    "print(\"O tipo da variável altura é\", type(altura))"
   ]
  },
  {
   "cell_type": "code",
   "execution_count": 7,
   "metadata": {},
   "outputs": [
    {
     "name": "stdout",
     "output_type": "stream",
     "text": [
      "O nome atual do aluno é Renan\n",
      "Nome do aluno definido para: \n"
     ]
    }
   ],
   "source": [
    "print(\"O nome atual do aluno é\", nomeAluno)\n",
    "nomeAluno = input(\"Digite seu novo nome: \")\n",
    "print(\"Nome do aluno definido para:\", nomeAluno)"
   ]
  },
  {
   "cell_type": "markdown",
   "metadata": {},
   "source": [
    "# Atividade - Entrada e Saída\n",
    "\n",
    "1- Peça ao usuário que digite seu time do coração e exiba uma mensagem qualquer"
   ]
  },
  {
   "cell_type": "code",
   "execution_count": 8,
   "metadata": {},
   "outputs": [
    {
     "name": "stdout",
     "output_type": "stream",
     "text": [
      " time qualquer!\n"
     ]
    }
   ],
   "source": [
    "time = input(\"Digite seu time do coração: \")\n",
    "\n",
    "if time.lower() == \"são paulo\" or time.lower() == \"sao paulo\":\n",
    "    print(time, \"ai timinho de baitola!\")\n",
    "elif time.lower() == 'corinthians':\n",
    "    print(time, 'o melhor time do Brasil!')\n",
    "else:\n",
    "    print(time, \"time qualquer!\")"
   ]
  },
  {
   "cell_type": "markdown",
   "metadata": {},
   "source": [
    "2- Peça ao usuário para digitar sua comida favorita e exiba uma mensagem qualquer."
   ]
  },
  {
   "cell_type": "code",
   "execution_count": 9,
   "metadata": {},
   "outputs": [
    {
     "name": "stdout",
     "output_type": "stream",
     "text": [
      " é bão mesmo!\n"
     ]
    }
   ],
   "source": [
    "comida = input(\"Digite sua comida favorita: \")\n",
    "print(comida, 'é bão mesmo!')"
   ]
  },
  {
   "cell_type": "markdown",
   "metadata": {},
   "source": [
    "3- Peça ao usuário para digitar uma palavra e um número. Depois, exiba uma senha personalizada.\n",
    "\n",
    "Exemplo:\n",
    "Entrada: Gato e 123 -> Saída Gato123"
   ]
  },
  {
   "cell_type": "code",
   "execution_count": 10,
   "metadata": {},
   "outputs": [
    {
     "name": "stdout",
     "output_type": "stream",
     "text": [
      "Sua senha personalizada é: \n"
     ]
    }
   ],
   "source": [
    "strSenha = input(\"Digite uma palavra qualquer: \")\n",
    "intSenha = input(\"Digite um número qualquer: \")\n",
    "\n",
    "print(\"Sua senha personalizada é:\",strSenha+intSenha)"
   ]
  },
  {
   "cell_type": "markdown",
   "metadata": {},
   "source": [
    "4- Peça ao usuário para digitar um nome e uma profissão fivtícia para um personagem. "
   ]
  },
  {
   "cell_type": "code",
   "execution_count": 11,
   "metadata": {},
   "outputs": [
    {
     "name": "stdout",
     "output_type": "stream",
     "text": [
      " é um(a) grande \n"
     ]
    }
   ],
   "source": [
    "nomePesongem = input(\"Digite o nome de seu personagem: \")\n",
    "profissaoPersonagem = input(\"Digite a profissão de seu personagem: \")\n",
    "\n",
    "print(nomePesongem, \"é um(a) grande\", profissaoPersonagem)"
   ]
  },
  {
   "cell_type": "markdown",
   "metadata": {},
   "source": [
    "5- Peça ao usuário para inserir um substativo e um adjetivo. Depois, exiba um título ficticio de livro"
   ]
  },
  {
   "cell_type": "code",
   "execution_count": 12,
   "metadata": {},
   "outputs": [
    {
     "name": "stdout",
     "output_type": "stream",
     "text": [
      "Seu livro ficticio é:  o corinthiano mais  de todos os tempos\n"
     ]
    }
   ],
   "source": [
    "substantivo = input(\"Digite um substantivo: \")\n",
    "adjetivo = input(\"Digite um adjetivo: \")\n",
    "\n",
    "print(\"Seu livro ficticio é:\", substantivo, \"o corinthiano mais\", adjetivo, \"de todos os tempos\")"
   ]
  },
  {
   "cell_type": "markdown",
   "metadata": {},
   "source": [
    "6- Peça ao usuário para inserir seu estilo de musica preferido. Depois, exiba sua opniao sobre estilo."
   ]
  },
  {
   "cell_type": "code",
   "execution_count": 13,
   "metadata": {},
   "outputs": [
    {
     "name": "stdout",
     "output_type": "stream",
     "text": [
      "Se converta, desviado!\n"
     ]
    }
   ],
   "source": [
    "estiloMusical = input(\"Qual seu estilo de musica preferido?\")\n",
    "\n",
    "if estiloMusical.lower() == \"gospel\":\n",
    "    print(\"Eita glória!!\")\n",
    "else:\n",
    "    print(\"Se converta, desviado!\")"
   ]
  },
  {
   "cell_type": "markdown",
   "metadata": {},
   "source": [
    "# Operadores"
   ]
  },
  {
   "cell_type": "markdown",
   "metadata": {},
   "source": [
    "### Aritmético"
   ]
  },
  {
   "cell_type": "code",
   "execution_count": null,
   "metadata": {},
   "outputs": [],
   "source": [
    "print(2 + 1)    #Soma\n",
    "print(2 - 1)    #Subtração\n",
    "print(2 * 1)    #Multiplicação\n",
    "print(2 / 1)    #Divisão\n",
    "print(2 ** 1)   #Elevado\n",
    "print(2 // 1)   #Divisão inteira\n",
    "print(2 % 1)    #Resto da divisão"
   ]
  },
  {
   "cell_type": "markdown",
   "metadata": {},
   "source": [
    "### Relacionais"
   ]
  },
  {
   "cell_type": "code",
   "execution_count": null,
   "metadata": {},
   "outputs": [],
   "source": [
    "print(2 == 1)   #Igual\n",
    "print(2 != 1)   #Diferente\n",
    "print(2 > 1)    #Maior que\n",
    "print(2 < 1)    #Menor que\n",
    "print(2 <= 1)   #Menor ou igual\n",
    "print(2 >= 1)   #Maior ou igual"
   ]
  },
  {
   "cell_type": "markdown",
   "metadata": {},
   "source": [
    "### Exercícios"
   ]
  },
  {
   "cell_type": "markdown",
   "metadata": {},
   "source": [
    "01 - Faça um algoritimo que leia dois valores inteiros e positicos. Ao fim, exiba a soma deste valores ao usuario"
   ]
  },
  {
   "cell_type": "code",
   "execution_count": null,
   "metadata": {},
   "outputs": [
    {
     "name": "stdout",
     "output_type": "stream",
     "text": [
      "A soma dos dois números é: 468\n"
     ]
    }
   ],
   "source": [
    "#1- Soma de dois número\n",
    "\n",
    "n1 = int(input(\"Digite um número: \"))\n",
    "n2 = int(input(\"Digite outro número: \"))\n",
    "\n",
    "print(\"A soma dos dois números é:\", n1+n2)"
   ]
  },
  {
   "cell_type": "markdown",
   "metadata": {},
   "source": [
    "02 - Faça um algoritimo que leia um numero inteiro positivo e calcule o dobro deste número."
   ]
  },
  {
   "cell_type": "code",
   "execution_count": null,
   "metadata": {},
   "outputs": [],
   "source": [
    "#2- Dobro de um número\n",
    "\n",
    "n = int(input(\"Digite um número: \"))\n",
    "print(\"O dobro é:\", n * 2)\n"
   ]
  },
  {
   "cell_type": "markdown",
   "metadata": {},
   "source": [
    "03 - Faça um algoritimo que leia tres notas de um aluno. AO fim, exiba a media aritimética da tres notas."
   ]
  },
  {
   "cell_type": "code",
   "execution_count": null,
   "metadata": {},
   "outputs": [],
   "source": [
    "#3 - Médioa de 3 notas\n",
    "\n",
    "nota1 = float(input(\"Digite a nota do primeiro aluno: \"))\n",
    "nota2 = float(input(\"Digite a nota do segundo aluno: \"))\n",
    "nota3 = float(input(\"Digite a nota do terceiro aluno: \"))\n",
    "\n",
    "print(\"A média das 3 notas é\", (nota1 + nota2 + nota3) / 3) "
   ]
  },
  {
   "cell_type": "markdown",
   "metadata": {},
   "source": [
    "04 - Calcule a area do retângulo."
   ]
  },
  {
   "cell_type": "code",
   "execution_count": null,
   "metadata": {},
   "outputs": [],
   "source": [
    "#4- Área de retângulo\n",
    "\n",
    "base = int(input(\"Digite a base do retângulo: \"))\n",
    "altura = int(input(\"Digite a altura do retângulo: \"))\n",
    "\n",
    "print(\"A área do retangulo é:\", base * altura)\n",
    "\n"
   ]
  },
  {
   "cell_type": "markdown",
   "metadata": {},
   "source": [
    "05 - Com o valor do dolar atual do Dolár, um casal precisa se planeja para uma vaigem. Faça um algoritimo que permita o casal converter a quantidade de dinheiro em reais que possuem, para dolar, considerando a cotação atual do dia."
   ]
  },
  {
   "cell_type": "code",
   "execution_count": 26,
   "metadata": {},
   "outputs": [
    {
     "name": "stdout",
     "output_type": "stream",
     "text": [
      "O valor de seu dinheiro convertido em dolar é: U$5.73\n"
     ]
    }
   ],
   "source": [
    "#5 Real para dolar\n",
    "\n",
    "dolar = 5.73\n",
    "\n",
    "reais = float(input(\"Digite sua quantidade de dinheiro em real: \"))\n",
    "valorDolar =  reais / dolar\n",
    "print(f'O valor de seu dinheiro convertido em dolar é: U${dolar:.2f}')"
   ]
  },
  {
   "cell_type": "markdown",
   "metadata": {},
   "source": [
    "06 - Solicite para o usuario a suya idade. Com a sua idade, crie um algoritimo que calcule a quantidade de dias que a pessoa ja viveu."
   ]
  },
  {
   "cell_type": "code",
   "execution_count": null,
   "metadata": {},
   "outputs": [
    {
     "name": "stdout",
     "output_type": "stream",
     "text": [
      "Sua idade em dias é de, aproximadamente: 3650\n"
     ]
    }
   ],
   "source": [
    "#6- Idade em dias\n",
    "\n",
    "dias = 365\n",
    "\n",
    "idade = int(input(\"Digite sua idade: \"))\n",
    "print(f\"Sua idade em dias é de, aproximadamente, {idade * dias} dias\")"
   ]
  },
  {
   "cell_type": "markdown",
   "metadata": {},
   "source": [
    "07 - João esta muito cotente com o desepenho do seu time e resoveu adquirir uma camiseta do melhor time do mundo, Corinthians. Ao chegar na loja, percebeu que há um desconto em pagamentos á vista, que é a mesma forma que ele faria. Solicite ao usuario , o valor do produto, o percentual de desconto, e ao fim, exiba o preço do produto ja descontado para pagamento."
   ]
  },
  {
   "cell_type": "code",
   "execution_count": null,
   "metadata": {},
   "outputs": [
    {
     "name": "stdout",
     "output_type": "stream",
     "text": [
      "O preço do produto com desconto é de $9.9\n"
     ]
    }
   ],
   "source": [
    "#7- Produto com desconto\n",
    "\n",
    "preco = float(input(\"Digite o preço do produto: \"))\n",
    "procentagemDesconto = float(input(\"Digite a porcentagem do desconto: \"))\n",
    "desconto = preco * (procentagemDesconto / 100)\n",
    "\n",
    "print(f\"O preço do produto com desconto é de ${preco - desconto}\")"
   ]
  },
  {
   "cell_type": "markdown",
   "metadata": {},
   "source": [
    "08 - Faça uim algoritmo que leia uma temperatura em Celsius e converta-a em Fahrenheit e en Kelvin."
   ]
  },
  {
   "cell_type": "code",
   "execution_count": null,
   "metadata": {},
   "outputs": [
    {
     "name": "stdout",
     "output_type": "stream",
     "text": [
      "A temperatura em Grau Celsius é: 58°C\n",
      "A temperatura em Grau Fahrenheit é: 136.4°F\n",
      "A temperatura em Kelvin é: 331.15K\n"
     ]
    }
   ],
   "source": [
    "# Celsius em Fahrenheit e Kelvin\n",
    "\n",
    "temperatura = float(input(\"Digite uma temperatura em Graus Celsius: \"))\n",
    "\n",
    "fahrenheit = (temperatura * 9/5) + 32\n",
    "kelvin = temperatura + 273.15\n",
    "\n",
    "print(f\"A temperatura em Grau Celsius é: {temperatura}°C\")\n",
    "print(f\"A temperatura em Grau Fahrenheit é: {fahrenheit}°F\")\n",
    "print(f\"A temperatura em Kelvin é: {kelvin}K\")"
   ]
  },
  {
   "cell_type": "markdown",
   "metadata": {},
   "source": [
    "09- Faça um algoritmo que leia o peso e a altura de uma pessoa. Com esses dados, calcular o IMC do usuário."
   ]
  },
  {
   "cell_type": "code",
   "execution_count": 3,
   "metadata": {},
   "outputs": [
    {
     "name": "stdout",
     "output_type": "stream",
     "text": [
      "Seu IMC é 21.48\n"
     ]
    }
   ],
   "source": [
    "altura = float(input(\"Digite sua altura em m\"))\n",
    "peso = float(input(\"Digite sua altura em kg\"))\n",
    "\n",
    "imc = peso / (altura * altura)\n",
    "\n",
    "print(f\"Seu IMC é {imc:.2f}\")"
   ]
  },
  {
   "cell_type": "markdown",
   "metadata": {},
   "source": [
    "10- Faça um algoritmo que solicite dois números ao usuário e calcule o resto da divisão entre elas."
   ]
  },
  {
   "cell_type": "code",
   "execution_count": null,
   "metadata": {},
   "outputs": [
    {
     "name": "stdout",
     "output_type": "stream",
     "text": [
      "O resto da divisão de 12 por 5 é: 2\n"
     ]
    }
   ],
   "source": [
    "n1= int(input(\"Digite um número: \"))\n",
    "n2= int(input(\"Digite outro número: \"))\n",
    "\n",
    "print(f\"O resto da divisão de {n1}/{n2} é: {n1 % n2}\")"
   ]
  },
  {
   "cell_type": "markdown",
   "metadata": {},
   "source": [
    "11- Para se preparar para a Calourada, uma aluna de vôlei da turma de ADS começou a correr para melhorar o condicionamento físico e deseja calcular a sua velocidade média durante as sessões de corrida. Solicite ao usuário, a distância percorrida e o tempo gasto da atividade para cálculo. "
   ]
  },
  {
   "cell_type": "code",
   "execution_count": 8,
   "metadata": {},
   "outputs": [
    {
     "name": "stdout",
     "output_type": "stream",
     "text": [
      "Sua velociade média é de: 10.00 m/min\n"
     ]
    }
   ],
   "source": [
    "distancia = int(input(\"Digite sua distância percorrida em metros: \"))\n",
    "tempo = int(input(\"Digite o tempo em minutos\"))\n",
    "\n",
    "print (f\"Sua velociade média é de: {(distancia / tempo):.2f} m/min\")"
   ]
  },
  {
   "cell_type": "code",
   "execution_count": 3,
   "metadata": {},
   "outputs": [
    {
     "name": "stdout",
     "output_type": "stream",
     "text": [
      "Sua idade em anos: 12\n",
      "Sua idade em meses: 144\n",
      "Sua idade em dias: 4380\n",
      "Sua idade em horas: 288\n",
      "Sua idade em minutos: 17280\n"
     ]
    }
   ],
   "source": [
    "idadeAnos = int(input(\"Digite sua idade: \"))\n",
    "\n",
    "idadeMeses = idadeAnos * 12\n",
    "idadeDias = idadeAnos * 365\n",
    "idadeHoras = idadeAnos * 24\n",
    "idadeMinutos = idadeHoras * 60\n",
    "\n",
    "print(f\"Sua idade em anos: {idadeAnos}\")\n",
    "print(f\"Sua idade em meses: {idadeMeses}\")\n",
    "print(f\"Sua idade em dias: {idadeDias}\")\n",
    "print(f\"Sua idade em horas: {idadeHoras}\")\n",
    "print(f\"Sua idade em minutos: {idadeMinutos}\")"
   ]
  },
  {
   "cell_type": "code",
   "execution_count": 5,
   "metadata": {},
   "outputs": [
    {
     "name": "stdout",
     "output_type": "stream",
     "text": [
      "Cardapio UniLanches:\n",
      "1- Hamburguer R$15,50\n",
      "2- X Salada R$22,00\n",
      "3- Fritas R$ 12,90\n",
      "4- Refri R$ 5,00\n",
      "5- Milkshake R$8,99\n",
      "6- Finalizar\n",
      "O valor total de seu pedido foi de R$46.5\n"
     ]
    }
   ],
   "source": [
    "print(\"Cardapio UniLanches:\\n1- Hamburguer R$15,50\\n2- X Salada R$22,00\\n3- Fritas R$ 12,90\\n4- Refri R$ 5,00\\n5- Milkshake R$8,99\\n6- Finalizar\")\n",
    "pedido = []\n",
    "preco = 0.0\n",
    "\n",
    "while True :\n",
    "    opcao = int(input(\"Digite uma opção de nosso cardapio: \"))\n",
    "    if opcao == 6 :\n",
    "        break\n",
    "    else : \n",
    "        pedido.insert(0,opcao)\n",
    "\n",
    "for produto in pedido:\n",
    "    if produto == 1:\n",
    "        preco += 15.50\n",
    "    elif produto == 2:\n",
    "        preco +=22.0\n",
    "    elif produto == 3:\n",
    "        preco +=12.9\n",
    "    elif produto == 4:\n",
    "        preco +=5.0\n",
    "    elif produto == 5:\n",
    "        preco +=8.99\n",
    "\n",
    "print(f\"O valor total de seu pedido foi de R${preco}\")"
   ]
  },
  {
   "cell_type": "markdown",
   "metadata": {},
   "source": [
    "### Relacionais"
   ]
  },
  {
   "cell_type": "code",
   "execution_count": 1,
   "metadata": {},
   "outputs": [
    {
     "name": "stdout",
     "output_type": "stream",
     "text": [
      "False\n",
      "True\n",
      "True\n",
      "False\n",
      "False\n",
      "True\n",
      "True\n",
      "False\n",
      "False\n",
      "True\n"
     ]
    }
   ],
   "source": [
    "print(2 == 1)               #Igual\n",
    "print(2 != 1)               #Diferente\n",
    "print(2 > 1)                #Maior que\n",
    "print(2 < 1)                #Menor que\n",
    "print(2 <= 1)               #Menor ou igual\n",
    "print(2 >= 1)               #Maior ou igual\n",
    "\n",
    "print(1 < 2 or 1 == 0)      #OU -> Uma ou outra comparação é verdadeira\n",
    "print(1 > 2 and 1 == 1)     #E  -> As duas condições precisam ser verdadeiras\n",
    "\n",
    "print(not True)             #not -> Inverte o valor (Mesmo que ! em outras linguagens)\n",
    "print(not False)            #not -> Inverte o valor (Mesmo que ! em outras linguagens)"
   ]
  },
  {
   "cell_type": "markdown",
   "metadata": {},
   "source": [
    "### if e else"
   ]
  },
  {
   "cell_type": "code",
   "execution_count": null,
   "metadata": {},
   "outputs": [
    {
     "name": "stdout",
     "output_type": "stream",
     "text": [
      "Número 10 é par\n"
     ]
    }
   ],
   "source": [
    "#Validar se o número é par\n",
    "\n",
    "numero = int(input(\"Digite um valor inteiro: \"))\n",
    "\n",
    "if(numero % 2 == 0):\n",
    "    print(f\"Número {numero} é par\")\n",
    "else:\n",
    "    print(f\"Número {numero} é impar\")"
   ]
  },
  {
   "cell_type": "code",
   "execution_count": null,
   "metadata": {},
   "outputs": [],
   "source": [
    "#Números positivos e negativos\n",
    "\n",
    "numero = int(input(\"Digite um valor inteiro: \"))\n",
    "\n",
    "if(numero >= 0):\n",
    "    print(f\"O número {numero} é positivo\")\n",
    "else:\n",
    "    print(f\"O número {numero} é negativo\")\n"
   ]
  },
  {
   "cell_type": "markdown",
   "metadata": {},
   "source": [
    "### Exercícios"
   ]
  },
  {
   "cell_type": "code",
   "execution_count": null,
   "metadata": {},
   "outputs": [],
   "source": [
    "#1- Aprovar aluno se a média de duas notas for maior ou igual a 7\n",
    "\n",
    "n1 = float(input(\"Digite sua nota da primeira prova: \"))\n",
    "n2 = float(input(\"Digite sua nota da segunda prova: \"))\n",
    "\n",
    "media = (n1+n2) / 2\n",
    "\n",
    "if (media >=7):\n",
    "    print(\"Você foi aprovado!\")\n",
    "else:\n",
    "    print(\"Você foi reprovado!\")"
   ]
  },
  {
   "cell_type": "code",
   "execution_count": null,
   "metadata": {},
   "outputs": [],
   "source": [
    "#2- Qual número é maior?\n",
    "\n",
    "n1 = float(input(\"Digite o primeiro número: \"))\n",
    "n2 = float(input(\"Digite o segundo número: \"))\n",
    "\n",
    "if (n1>n2):\n",
    "    print(f\"{n1} é maior que {n2}\")\n",
    "elif (n2 > n1):\n",
    "    print(f\"{n2} é maior que {n1}\")\n",
    "else:\n",
    "    print(f\"Os números {n1} e {n2} são iguais\")"
   ]
  },
  {
   "cell_type": "code",
   "execution_count": null,
   "metadata": {},
   "outputs": [],
   "source": [
    "#3- Qual número é maior?\n",
    "\n",
    "velocidadeMaxima = float(input(\"Digite a velocidade máxima permitida: \"))\n",
    "velocidadeVeiculo = float(input(\"Digite a velocidade do veículo: \"))\n",
    "\n",
    "if(velocidadeVeiculo > velocidadeMaxima):\n",
    "    print(\"Vai pagar multa\")\n",
    "else:\n",
    "    print(\"Não vai pagar multa\")"
   ]
  },
  {
   "cell_type": "code",
   "execution_count": null,
   "metadata": {},
   "outputs": [
    {
     "name": "stdout",
     "output_type": "stream",
     "text": [
      "Os 3 números são iguais\n"
     ]
    }
   ],
   "source": [
    "#4- Idem ao 2 com 3 valores\n",
    "\n",
    "n1 = int(input(\"Digite o primeiro número: \"))\n",
    "n2 = int(input(\"Digite o segundo número: \"))\n",
    "n3 = int(input(\"Digite o terceiro número: \"))\n",
    "\n",
    "if (n1 > n2 and n1 > n3):\n",
    "    print(f\"{n1} é o maior número\")\n",
    "elif (n2 > n1 and n2 > n3):\n",
    "    print(f\"{n2} é o maior número\")\n",
    "elif (n3 > n1 and n3 > n2):\n",
    "    print(f\"{n3} é o maior número\")\n",
    "else:\n",
    "    print(f\"Os três números são iguais\")"
   ]
  },
  {
   "cell_type": "code",
   "execution_count": null,
   "metadata": {},
   "outputs": [
    {
     "name": "stdout",
     "output_type": "stream",
     "text": [
      "Seu peso ideal é: 54.69\n"
     ]
    }
   ],
   "source": [
    "altura = float(input(\"Digite sua altura: \"))\n",
    "genero = input(\"Digite seu gênero (Masculino ou Feminino): \")\n",
    "\n",
    "if(genero.lower() == 'masculino'):\n",
    "    print(f\"Seu peso ideal é: {((72.7 * altura) - 58):.2f}Kg\")\n",
    "elif (genero.lower() == 'feminino'):\n",
    "    print(f\"Seu peso ideal é: {((62.1 * altura) - 44.7):.2f}Kg\")\n",
    "else:\n",
    "    print(\"Gênero inválido\")"
   ]
  }
 ],
 "metadata": {
  "kernelspec": {
   "display_name": "Python 3",
   "language": "python",
   "name": "python3"
  },
  "language_info": {
   "codemirror_mode": {
    "name": "ipython",
    "version": 3
   },
   "file_extension": ".py",
   "mimetype": "text/x-python",
   "name": "python",
   "nbconvert_exporter": "python",
   "pygments_lexer": "ipython3",
   "version": "3.12.4"
  }
 },
 "nbformat": 4,
 "nbformat_minor": 2
}
