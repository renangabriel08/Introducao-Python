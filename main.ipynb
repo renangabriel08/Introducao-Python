{
 "cells": [
  {
   "cell_type": "markdown",
   "metadata": {},
   "source": [
    "# Primeiros passos"
   ]
  },
  {
   "cell_type": "markdown",
   "metadata": {},
   "source": [
    "### Saida de dados\n",
    "\n",
    "o comando de saída de dados, ou seja, o responsável por **exibir** informações para o usuário no ``Python``. Em pseudocódigo, lemos como `escreva`."
   ]
  },
  {
   "cell_type": "code",
   "execution_count": null,
   "metadata": {},
   "outputs": [],
   "source": [
    "print(\"Olá mundo!\")"
   ]
  },
  {
   "cell_type": "markdown",
   "metadata": {},
   "source": [
    "### Entrada de dados\n",
    "\n",
    "O comando de entrada de dados, ou seja, o responsável por **ler** as informações digitadas pelo usuário no ``Python``. Em pseudocódigo, lemos como `leia`."
   ]
  },
  {
   "cell_type": "code",
   "execution_count": null,
   "metadata": {},
   "outputs": [],
   "source": [
    "nome = input(\"Digite seu nome: \")\n",
    "print(\"Meu nome é\",nome)"
   ]
  },
  {
   "cell_type": "markdown",
   "metadata": {},
   "source": [
    "# Variáveis"
   ]
  },
  {
   "cell_type": "markdown",
   "metadata": {},
   "source": [
    "### Conceito\n",
    "\n",
    "Na computação, temos as variáveis. Variáveis são posições na memória que sofrem alteração de valor.\n",
    "Ou seja, se você guardou um valor em uma variável, como um nome, uma idade, ele pode ser alterado posteriormente pois é possível essa volatilidade de seu valor.\n",
    "Para declarar uma variável, e armazenar um valor, é usado a sigla de = (igual).\n",
    "No Python, o tipo da variável é concebido de forma dinamica, ou seja, no ato de atribuição de valor."
   ]
  },
  {
   "cell_type": "markdown",
   "metadata": {},
   "source": [
    "### Padrões\n",
    "\n",
    "Existem alguns padrões de declaração de variáveis, os mais comuns são:\n",
    "\n",
    "- unimarUniversidade = camelCase\n",
    "- UnimarUniversidade = PascalCase\n",
    "- unimar_universidade = snake_case\n",
    "\n",
    "Segue o exemplo de atribuição:"
   ]
  },
  {
   "cell_type": "code",
   "execution_count": null,
   "metadata": {},
   "outputs": [],
   "source": [
    "nome = \"Renan\"          #normal\n",
    "nomePessoa = \"Renan\"    #camelCase\n",
    "NomePessoa = \"Renan\"    #PascalCase\n",
    "nome_pessoa = \"Renan\"   #snake_case\n",
    "\n",
    "print(\"Bem-vindo \" + nome)\n",
    "print(\"Bem-vindo\", nome)"
   ]
  },
  {
   "cell_type": "markdown",
   "metadata": {},
   "source": [
    "### Concatenar\n",
    "\n",
    "Para juntarmos um conteúdio de texto com variáveis, ou apenas variáveis com variáveis, usa-se a concatenação, simboliza pela vírgula. Isso dita ao python que você quer juntar/unir valores.\n",
    "\n",
    "Exemplo:"
   ]
  },
  {
   "cell_type": "code",
   "execution_count": null,
   "metadata": {},
   "outputs": [],
   "source": [
    "print(\"Olá\", nome, \"bem-vindo à Unimar\")"
   ]
  },
  {
   "cell_type": "markdown",
   "metadata": {},
   "source": [
    "### Declaração\n",
    "\n",
    "Quando declaramos uma variável, temos que nos atentar na forma com declaramos as variáveis. Existe a sintaxe correta de declaração para tal\n",
    "\n",
    "- sem espaços\n",
    "- não começar com número\n",
    "- sem usar cacteres especiais/acentos\n",
    "- não usar palavras reservadas"
   ]
  },
  {
   "cell_type": "code",
   "execution_count": null,
   "metadata": {},
   "outputs": [],
   "source": [
    "# nome = \"Renan\"               -> OK\n",
    "# 08_SP = \"Modalidade\"         -> Erro: começa com número\n",
    "# Nome Completo = \"Renan\"      -> Erro: espaço\n",
    "# código = \"console.log()\"     -> Erro: acento\n",
    "# try = \"Renan\"                -> Erro: palavra reservada\n",
    "# I = \"Renan\"                  -> OK"
   ]
  },
  {
   "cell_type": "markdown",
   "metadata": {},
   "source": [
    "### Tipos de dados\n",
    "\n",
    "Em python, o tipo de uma variável não precisa ser declarado explicitamente antes de usar a variável. O python é uma linguagem de tipagem dinâmica, o que significa que o tipo de uma variável é inferido automaticamente com base no valor que ele recebe. Qundo você atribui um valor a uma variável em Python, o interpretador determina o tipo dessa variável com base no tipo do valor atribuído. Exemplo\n",
    "\n",
    "- ``str``: Representa uma cadeia de caracteres, ou seja, textos de forma geral.\n",
    "- ``int``: Representa números inteiros.\n",
    "- ``float``: Representa números de ponto flutuantem ou seja, números com casas decimais\n"
   ]
  },
  {
   "cell_type": "code",
   "execution_count": null,
   "metadata": {},
   "outputs": [],
   "source": [
    "nomeAluno = \"Renan\"\n",
    "idade = 18\n",
    "altura = 1.60\n",
    "\n",
    "print(\"O tipo da variável nomeAluno é\", type(nomeAluno))\n",
    "print(\"O tipo da variável idade é\", type(idade))\n",
    "print(\"O tipo da variável altura é\", type(altura))"
   ]
  },
  {
   "cell_type": "code",
   "execution_count": 6,
   "metadata": {},
   "outputs": [
    {
     "name": "stdout",
     "output_type": "stream",
     "text": [
      "O nome atual do aluno é teste\n",
      "Nome do aluno definido para: Renan\n"
     ]
    }
   ],
   "source": [
    "print(\"O nome atual do aluno é\", nomeAluno)\n",
    "nomeAluno = input(\"Digite seu novo nome: \")\n",
    "print(\"Nome do aluno definido para:\", nomeAluno)"
   ]
  }
 ],
 "metadata": {
  "kernelspec": {
   "display_name": "Python 3",
   "language": "python",
   "name": "python3"
  },
  "language_info": {
   "codemirror_mode": {
    "name": "ipython",
    "version": 3
   },
   "file_extension": ".py",
   "mimetype": "text/x-python",
   "name": "python",
   "nbconvert_exporter": "python",
   "pygments_lexer": "ipython3",
   "version": "3.12.4"
  }
 },
 "nbformat": 4,
 "nbformat_minor": 2
}
